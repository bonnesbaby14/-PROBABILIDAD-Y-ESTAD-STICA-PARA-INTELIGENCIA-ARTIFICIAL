{
 "cells": [
  {
   "cell_type": "code",
   "execution_count": 1,
   "id": "aee30471",
   "metadata": {},
   "outputs": [],
   "source": [
    "import io\n",
    "import re\n",
    "import unicodedata\n",
    "from collections import Counter\n",
    "import matplotlib.pyplot as plt\n",
    "libro1 = io.open(\"/home/bonnesbaby14/Escritorio/libro1.txt\",\"r\",encoding=\"utf-8\").readlines()\n",
    "\n"
   ]
  },
  {
   "cell_type": "code",
   "execution_count": 10,
   "id": "79025e27",
   "metadata": {},
   "outputs": [],
   "source": [
    "\n",
    "linea = \"\"\n",
    "nueva_lista = []\n",
    "\n",
    "for i in range(0,len(libro1)):\n",
    "    linea = libro1[i]\n",
    "    linea= linea.replace(\".\",\"\")\n",
    "    linea= linea.replace(\",\",\"\")\n",
    "    linea= linea.replace(\":\",\"\")\n",
    "    linea= linea.replace(\".\",\"\")\n",
    "    linea= linea.replace(\"¡\",\"\")\n",
    "    linea= linea.replace(\"!\",\"\")\n",
    "    linea= linea.replace(\"?\",\"\")\n",
    "    linea= linea.replace(\"¿\",\"\")\n",
    "    linea= linea.replace(\"#\",\"\")\n",
    "    linea= linea.replace(\"$\",\"\")\n",
    "    linea= linea.replace(\"%\",\"\")\n",
    "    linea= linea.replace(\"&\",\"\")\n",
    "    linea= linea.replace(\"/\",\"\")\n",
    "    linea= linea.replace(\"(\",\"\")\n",
    "    \n",
    "    linea= linea.replace(\")\",\"\")\n",
    "    linea= linea.replace(\"=\",\"\")\n",
    "    linea= linea.replace(\"á\",\"a\")\n",
    "    linea= linea.replace(\"é\",\"e\")\n",
    "    linea= linea.replace(\"í\",\"i\")\n",
    "    linea= linea.replace(\"ó\",\"o\")\n",
    "    linea= linea.replace(\"ú\",\"u\")\n",
    "    linea= linea.replace(\"A\",\"a\")\n",
    "    linea= linea.replace(\"Á\",\"a\")\n",
    "    linea= linea.replace(\"E\",\"e\")\n",
    "    linea= linea.replace(\"É\",\"e\")\n",
    "    linea= linea.replace(\"Í\",\"i\")\n",
    "    linea= linea.replace(\"I\",\"i\")\n",
    "    linea= linea.replace(\"O\",\"o\")\n",
    "    linea= linea.replace(\"U\",\"u\")\n",
    "    linea= linea.replace(\"Ú\",\"u\")\n",
    "    linea= linea.replace(\"+\",\"\")\n",
    "    linea= linea.replace(\"-\",\"\")\n",
    "    linea= linea.replace(\",\",\"\")\n",
    "    linea= linea.replace(\"{\",\"\")\n",
    "    linea= linea.replace(\"}\",\"\")\n",
    "    linea= linea.replace(\";\",\"\")\n",
    "    linea= linea.replace(\"0\",\"\")\n",
    "    linea= linea.replace(\"1\",\"\")\n",
    "    linea= linea.replace(\"2\",\"\")\n",
    "    linea= linea.replace(\"3\",\"\")\n",
    "    linea= linea.replace(\"4\",\"\")\n",
    "    linea= linea.replace(\"5\",\"\")\n",
    "    linea= linea.replace(\"6\",\"\")\n",
    "    linea= linea.replace(\"7\",\"\")\n",
    "    linea= linea.replace(\"8\",\"\")\n",
    "    linea= linea.replace(\"9\",\"\")\n",
    "    linea= linea.replace(\"*\",\"\")\n",
    "    linea= linea.replace(\"1\",\"¨¨\")\n",
    "    linea= linea.replace(\"^\",\"\")\n",
    "    linea= linea.replace(\"[\",\"\")\n",
    "    linea= linea.replace(\"]\",\"\")\n",
    "    linea= linea.replace(\"''\",\"\")\n",
    "    linea= linea.replace(\"'\",\"\")\n",
    "    linea= linea.replace(\"_\",\"\")\n",
    "    \n",
    "    linea= linea.replace(\" \",\"\")\n",
    "    linea= linea.replace(\">>\",\"\")\n",
    "    linea= linea.replace(\"<<\",\"\")\n",
    "    linea= linea.replace(\"\\n\",\"\")\n",
    "    linea= linea.replace(\"$\",\"\")\n",
    "    linea= linea.replace(\"Ü\",\"u\")\n",
    "    linea= linea.replace(\"ü\",\"u\")\n",
    "    linea= linea.replace(\"ä\",\"a\")\n",
    "    linea= linea.replace(\"ë\",\"e\")\n",
    "    linea= linea.replace(\"Ë\",\"e\")\n",
    "    linea= linea.replace(\"ï\",\"i\")\n",
    "    linea= linea.replace(\"Ï\",\"i\")\n",
    "    linea= linea.replace(\"Ö\",\"o\")\n",
    "    linea= linea.replace(\"ö\",\"o\")\n",
    "    linea= linea.replace(\"@\",\"\")\n",
    "    nueva_lista.append(linea.strip().lower())\n",
    "\n"
   ]
  },
  {
   "cell_type": "code",
   "execution_count": 11,
   "id": "ed6cd386",
   "metadata": {},
   "outputs": [
    {
     "data": {
      "image/png": "[encoded data removed]",
      "text/plain": [
       "<Figure size 432x288 with 1 Axes>"
      ]
     },
     "metadata": {
      "needs_background": "light"
     },
     "output_type": "display_data"
    },
    {
     "name": "stdout",
     "output_type": "stream",
     "text": [
      "[('a', 237679), ('e', 227426)]\n"
     ]
    }
   ],
   "source": [
    "#Nueva lista\n",
    "charts = []\n",
    "max_lines = range(0,len(nueva_lista))\n",
    "\n",
    "\n",
    "\n",
    "\n",
    "for i in max_lines:\n",
    "    charts += [char for char in nueva_lista[i]]\n",
    "\n",
    "\n",
    "ordenadas = sorted(charts)\n",
    "agrupacion =  Counter(charts)\n",
    "#print(d)\n",
    "# print(c)\n",
    "\n",
    "x = agrupacion.keys()\n",
    "y = agrupacion.values()\n",
    "plt.bar(x,y)\n",
    "plt.show()\n",
    "j = agrupacion.most_common(2)\n",
    "print(j)\n",
    "\n",
    "\n"
   ]
  },
  {
   "cell_type": "code",
   "execution_count": null,
   "id": "33ea206c",
   "metadata": {},
   "outputs": [],
   "source": []
  }
 ],
 "metadata": {
  "kernelspec": {
   "display_name": "Python 3.9.12 ('ceti')",
   "language": "python",
   "name": "python3"
  },
  "language_info": {
   "codemirror_mode": {
    "name": "ipython",
    "version": 3
   },
   "file_extension": ".py",
   "mimetype": "text/x-python",
   "name": "python",
   "nbconvert_exporter": "python",
   "pygments_lexer": "ipython3",
   "version": "3.9.12"
  },
  "vscode": {
   "interpreter": {
    "hash": "2531742f0e8e0a60b0ae9a79fa85c6ce21ba9aa6a340d232e05a132977e28018"
   }
  }
 },
 "nbformat": 4,
 "nbformat_minor": 5
}
