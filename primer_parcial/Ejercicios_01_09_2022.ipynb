{
 "cells": [
  {
   "cell_type": "code",
   "execution_count": 1,
   "metadata": {},
   "outputs": [
    {
     "name": "stdout",
     "output_type": "stream",
     "text": [
      "0.03698224852071006\n",
      "1.9230769230769231\n",
      "31.25\n"
     ]
    }
   ],
   "source": [
    "from math import factorial;\n",
    "def cartas_uno(cartas):\n",
    "    cartas_total=52;\n",
    "    probabilidad_total=None;\n",
    "\n",
    "    for _ in range(0,cartas):\n",
    "        probabilidad=1/cartas_total;\n",
    "        if(probabilidad_total==None):\n",
    "            probabilidad_total=probabilidad;\n",
    "        else:\n",
    "            probabilidad_total*=probabilidad;\n",
    "\n",
    "    return probabilidad_total*100;\n",
    "\n",
    "\n",
    "def cartas_dos():\n",
    "    cartas_total=52;\n",
    "\n",
    "    return (1/cartas_total)*100;\n",
    "\n",
    "def monedas(intentos,exito, probabilidad):\n",
    "    a=(factorial(intentos)/(factorial(exito)*factorial(intentos-exito)));\n",
    "    b=probabilidad**exito;\n",
    "    c=(1-probabilidad)**(intentos-exito);\n",
    "\n",
    "    return a*b*c*100;\n",
    "\n",
    "\n",
    "\n",
    "print(cartas_uno(2));\n",
    "print(cartas_dos());\n",
    "print(monedas(5,3,.5))\n"
   ]
  }
 ],
 "metadata": {
  "kernelspec": {
   "display_name": "Python 3.9.12 ('ceti')",
   "language": "python",
   "name": "python3"
  },
  "language_info": {
   "codemirror_mode": {
    "name": "ipython",
    "version": 3
   },
   "file_extension": ".py",
   "mimetype": "text/x-python",
   "name": "python",
   "nbconvert_exporter": "python",
   "pygments_lexer": "ipython3",
   "version": "3.9.12"
  },
  "orig_nbformat": 4,
  "vscode": {
   "interpreter": {
    "hash": "2531742f0e8e0a60b0ae9a79fa85c6ce21ba9aa6a340d232e05a132977e28018"
   }
  }
 },
 "nbformat": 4,
 "nbformat_minor": 2
}
