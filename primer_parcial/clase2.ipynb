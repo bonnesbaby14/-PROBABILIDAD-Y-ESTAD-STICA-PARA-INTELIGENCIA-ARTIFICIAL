{
 "cells": [
  {
   "cell_type": "code",
   "execution_count": 4,
   "metadata": {},
   "outputs": [
    {
     "name": "stdout",
     "output_type": "stream",
     "text": [
      "1982\n",
      "1931\n",
      "1973\n",
      "1982\n",
      "1931\n",
      "1973\n",
      "range(0, 3)\n"
     ]
    }
   ],
   "source": [
    "data=[1982,1931,1973]\n",
    "n=len(data)\n",
    "\n",
    "for a in data:\n",
    "    print(a)\n",
    "\n",
    "for i in range(n):\n",
    "    print(data[i])\n",
    "\n"
   ]
  },
  {
   "cell_type": "code",
   "execution_count": 5,
   "metadata": {},
   "outputs": [
    {
     "name": "stdout",
     "output_type": "stream",
     "text": [
      "0\n",
      "1\n",
      "2\n",
      "3\n",
      "4\n",
      "5\n",
      "6\n",
      "7\n",
      "8\n"
     ]
    }
   ],
   "source": [
    "for i in range(0,9):\n",
    "    print(i)"
   ]
  },
  {
   "cell_type": "code",
   "execution_count": 6,
   "metadata": {},
   "outputs": [
    {
     "name": "stdout",
     "output_type": "stream",
     "text": [
      "1982\n",
      "1931\n",
      "1973\n"
     ]
    }
   ],
   "source": [
    "data=[1982,1931,1973]\n",
    "\n",
    "for a in data:\n",
    "    print(a)"
   ]
  },
  {
   "cell_type": "code",
   "execution_count": 7,
   "metadata": {},
   "outputs": [
    {
     "name": "stdout",
     "output_type": "stream",
     "text": [
      "el color es rojo\n",
      "el color es azul\n",
      "el color es verde\n",
      "el color es azul\n"
     ]
    }
   ],
   "source": [
    "colores=[\"rojo\",\"azul\",\"verde\",\"azul\"]\n",
    "\n",
    "for color in colores:\n",
    "    print(\"el color es \" + color)"
   ]
  }
 ],
 "metadata": {
  "kernelspec": {
   "display_name": "Python 3.9.12 ('ceti')",
   "language": "python",
   "name": "python3"
  },
  "language_info": {
   "codemirror_mode": {
    "name": "ipython",
    "version": 3
   },
   "file_extension": ".py",
   "mimetype": "text/x-python",
   "name": "python",
   "nbconvert_exporter": "python",
   "pygments_lexer": "ipython3",
   "version": "3.9.12"
  },
  "orig_nbformat": 4,
  "vscode": {
   "interpreter": {
    "hash": "2531742f0e8e0a60b0ae9a79fa85c6ce21ba9aa6a340d232e05a132977e28018"
   }
  }
 },
 "nbformat": 4,
 "nbformat_minor": 2
}
