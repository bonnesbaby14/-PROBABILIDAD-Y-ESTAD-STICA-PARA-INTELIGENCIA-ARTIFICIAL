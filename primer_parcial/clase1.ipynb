{
 "cells": [
  {
   "cell_type": "code",
   "execution_count": 7,
   "metadata": {},
   "outputs": [],
   "source": [
    "x=\"Gabriel Rodriguez esta estudiando en el ceti\"\n",
    "y=123\n",
    "z=35.01\n"
   ]
  },
  {
   "cell_type": "markdown",
   "metadata": {},
   "source": [
    "Este es un comentario dentro del notebook"
   ]
  },
  {
   "cell_type": "code",
   "execution_count": 8,
   "metadata": {},
   "outputs": [
    {
     "name": "stdout",
     "output_type": "stream",
     "text": [
      "Gabriel Rodriguez esta estudiando en el ceti\n",
      "123\n",
      "35.01\n"
     ]
    }
   ],
   "source": [
    "print(x)\n",
    "print(y)\n",
    "print(z)"
   ]
  },
  {
   "cell_type": "code",
   "execution_count": 9,
   "metadata": {},
   "outputs": [
    {
     "name": "stdout",
     "output_type": "stream",
     "text": [
      "3.9.12 (main, Jun  1 2022, 11:38:51) \n",
      "[GCC 7.5.0]\n"
     ]
    }
   ],
   "source": [
    "import sys \n",
    "print(sys.version)"
   ]
  },
  {
   "cell_type": "code",
   "execution_count": 11,
   "metadata": {},
   "outputs": [
    {
     "name": "stdout",
     "output_type": "stream",
     "text": [
      "<class 'str'>\n",
      "<class 'int'>\n",
      "<class 'float'>\n"
     ]
    }
   ],
   "source": [
    "print(type(\"hola\"))\n",
    "print(type(356))\n",
    "print(type(12.23))\n",
    "\n",
    "\n"
   ]
  },
  {
   "cell_type": "code",
   "execution_count": 27,
   "metadata": {},
   "outputs": [
    {
     "name": "stdout",
     "output_type": "stream",
     "text": [
      "Gabriel\n",
      "Gabriel\n",
      "itec le ne odnaidutse atse zeugirdoR leirbaG\n"
     ]
    }
   ],
   "source": [
    "\n",
    "print(x[0:7])\n",
    "nueva=x.split(\" \")\n",
    "print(nueva[0])\n",
    "\n",
    "#impirmit al reves una cadena\n",
    "print(x[::-1])"
   ]
  },
  {
   "cell_type": "code",
   "execution_count": 33,
   "metadata": {},
   "outputs": [
    {
     "name": "stdout",
     "output_type": "stream",
     "text": [
      "hola mundo hola mundo\n",
      "10.3 10.3\n",
      "10.3 10.3\n"
     ]
    }
   ],
   "source": [
    "l=[\"hola mundo\",10.3,1958]\n",
    "print(l[0],l[-3])\n",
    "print(l[1],l[-2])\n",
    "print(l[-2],l[1])"
   ]
  },
  {
   "cell_type": "code",
   "execution_count": 35,
   "metadata": {},
   "outputs": [
    {
     "name": "stdout",
     "output_type": "stream",
     "text": [
      "['hola mundo', 10.3]\n",
      "[10.3, 1958]\n"
     ]
    }
   ],
   "source": [
    "\n",
    "print(l[0:2])\n",
    "print(l[1:4])\n"
   ]
  },
  {
   "cell_type": "code",
   "execution_count": 37,
   "metadata": {},
   "outputs": [
    {
     "data": {
      "text/plain": [
       "['hola mundo', 10.3, 1958, ['pop', 10], ['pop', 10], ('new', 12)]"
      ]
     },
     "execution_count": 37,
     "metadata": {},
     "output_type": "execute_result"
    }
   ],
   "source": [
    "l.append([\"pop\",10])\n",
    "l.append((\"new\",12))\n",
    "l"
   ]
  },
  {
   "cell_type": "code",
   "execution_count": 38,
   "metadata": {},
   "outputs": [
    {
     "data": {
      "text/plain": [
       "['hola mundo', 10.3, 1958, ['pop', 10], ['pop', 10], ('new', 12), 'a', 'b']"
      ]
     },
     "execution_count": 38,
     "metadata": {},
     "output_type": "execute_result"
    }
   ],
   "source": [
    "l.extend(['a','b'])\n",
    "l"
   ]
  },
  {
   "cell_type": "code",
   "execution_count": 39,
   "metadata": {},
   "outputs": [
    {
     "data": {
      "text/plain": [
       "['hola mundo', 10.3, 1958, ['pop', 10], ['pop', 10], ('new', 12), 'a', 'b']"
      ]
     },
     "execution_count": 39,
     "metadata": {},
     "output_type": "execute_result"
    }
   ],
   "source": [
    "l1=l\n",
    "l1"
   ]
  },
  {
   "cell_type": "code",
   "execution_count": 40,
   "metadata": {},
   "outputs": [
    {
     "data": {
      "text/plain": [
       "['hola mundo', 10.3, 1958, ['pop', 10], ['pop', 10], ('new', 12), 'a', 'b']"
      ]
     },
     "execution_count": 40,
     "metadata": {},
     "output_type": "execute_result"
    }
   ],
   "source": [
    "l2=l[:]\n",
    "l2"
   ]
  },
  {
   "cell_type": "code",
   "execution_count": 42,
   "metadata": {},
   "outputs": [
    {
     "name": "stdout",
     "output_type": "stream",
     "text": [
      "['hola mundo', 10.3, 1958, ['pop', 10], ['pop', 10], ('new', 12), 'a', 'b', 'infiltrado', 'infiltrado']\n",
      "['hola mundo', 10.3, 1958, ['pop', 10], ['pop', 10], ('new', 12), 'a', 'b', 'infiltrado', 'infiltrado']\n",
      "['hola mundo', 10.3, 1958, ['pop', 10], ['pop', 10], ('new', 12), 'a', 'b']\n"
     ]
    }
   ],
   "source": [
    "l1.append(\"infiltrado\")\n",
    "print(l1)\n",
    "print(l)\n",
    "print(l2)\n",
    "\n"
   ]
  },
  {
   "cell_type": "code",
   "execution_count": 43,
   "metadata": {},
   "outputs": [
    {
     "data": {
      "text/plain": [
       "{'key1': 1, 'key2': 1, 'key3': [3, 2, 1], 'key4': (4, 5, 6), 'key5': (0, 1)}"
      ]
     },
     "execution_count": 43,
     "metadata": {},
     "output_type": "execute_result"
    }
   ],
   "source": [
    "\n",
    "\n",
    "\n",
    "dict={\"key1\":1,\"key2\":1,\"key3\":[3,2,1],\"key4\":(4,5,6),\"key5\":(0,1)}\n",
    "dict"
   ]
  },
  {
   "cell_type": "code",
   "execution_count": 47,
   "metadata": {},
   "outputs": [
    {
     "data": {
      "text/plain": [
       "(0, 1)"
      ]
     },
     "execution_count": 47,
     "metadata": {},
     "output_type": "execute_result"
    }
   ],
   "source": [
    "dict[\"key5\"]"
   ]
  },
  {
   "cell_type": "code",
   "execution_count": 57,
   "metadata": {},
   "outputs": [
    {
     "ename": "AttributeError",
     "evalue": "'dict' object has no attribute 'getValues'",
     "output_type": "error",
     "traceback": [
      "\u001b[0;31m---------------------------------------------------------------------------\u001b[0m",
      "\u001b[0;31mAttributeError\u001b[0m                            Traceback (most recent call last)",
      "\u001b[1;32m/home/bonnesbaby14/Escritorio/CETI/primer_parcial/porobailidad/clase1.ipynb Celda 16\u001b[0m in \u001b[0;36m<cell line: 1>\u001b[0;34m()\u001b[0m\n\u001b[0;32m----> <a href='vscode-notebook-cell:/home/bonnesbaby14/Escritorio/CETI/primer_parcial/porobailidad/clase1.ipynb#X21sZmlsZQ%3D%3D?line=0'>1</a>\u001b[0m \u001b[39mdict\u001b[39;49m\u001b[39m.\u001b[39;49mgetValues()\n",
      "\u001b[0;31mAttributeError\u001b[0m: 'dict' object has no attribute 'getValues'"
     ]
    }
   ],
   "source": [
    "dict.getValues()\n"
   ]
  }
 ],
 "metadata": {
  "kernelspec": {
   "display_name": "Python 3.9.12 ('ceti')",
   "language": "python",
   "name": "python3"
  },
  "language_info": {
   "codemirror_mode": {
    "name": "ipython",
    "version": 3
   },
   "file_extension": ".py",
   "mimetype": "text/x-python",
   "name": "python",
   "nbconvert_exporter": "python",
   "pygments_lexer": "ipython3",
   "version": "3.9.12"
  },
  "orig_nbformat": 4,
  "vscode": {
   "interpreter": {
    "hash": "2531742f0e8e0a60b0ae9a79fa85c6ce21ba9aa6a340d232e05a132977e28018"
   }
  }
 },
 "nbformat": 4,
 "nbformat_minor": 2
}
